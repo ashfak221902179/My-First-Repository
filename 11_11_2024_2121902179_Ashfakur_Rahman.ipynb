{
  "nbformat": 4,
  "nbformat_minor": 0,
  "metadata": {
    "colab": {
      "provenance": [],
      "authorship_tag": "ABX9TyMl09XUAHS0NuGCASdqF2+T",
      "include_colab_link": true
    },
    "kernelspec": {
      "name": "python3",
      "display_name": "Python 3"
    },
    "language_info": {
      "name": "python"
    }
  },
  "cells": [
    {
      "cell_type": "markdown",
      "metadata": {
        "id": "view-in-github",
        "colab_type": "text"
      },
      "source": [
        "<a href=\"https://colab.research.google.com/github/ashfak221902179/My-First-Repository/blob/main/11_11_2024_2121902179_Ashfakur_Rahman.ipynb\" target=\"_parent\"><img src=\"https://colab.research.google.com/assets/colab-badge.svg\" alt=\"Open In Colab\"/></a>"
      ]
    },
    {
      "cell_type": "code",
      "execution_count": null,
      "metadata": {
        "id": "vbTE3i9Zwyyn",
        "colab": {
          "base_uri": "https://localhost:8080/"
        },
        "outputId": "2f398b24-39c3-45c7-b12a-fe3f8008741c"
      },
      "outputs": [
        {
          "output_type": "stream",
          "name": "stdout",
          "text": [
            "[5, 4, 3, 2, 1]\n"
          ]
        }
      ],
      "source": [
        "A = [5, 4, 3, 2, 1]\n",
        "print(A)"
      ]
    },
    {
      "cell_type": "code",
      "source": [
        "# example 1\n",
        "for i in [1, 2, 3, 4, 5]:\n",
        "        print(i)\n",
        "print(\"Blast off!\")"
      ],
      "metadata": {
        "colab": {
          "base_uri": "https://localhost:8080/"
        },
        "id": "Pl-W9p8yyDas",
        "outputId": "cd3d220e-b3db-4845-a52b-46c6701bf16d"
      },
      "execution_count": null,
      "outputs": [
        {
          "output_type": "stream",
          "name": "stdout",
          "text": [
            "1\n",
            "2\n",
            "3\n",
            "4\n",
            "5\n",
            "Blast off!\n"
          ]
        }
      ]
    },
    {
      "cell_type": "code",
      "source": [
        "# example 2\n",
        "\n",
        "word = 'hello'\n",
        "for char in word:\n",
        "        print(char)"
      ],
      "metadata": {
        "colab": {
          "base_uri": "https://localhost:8080/"
        },
        "id": "hFFSOQ9Syx5s",
        "outputId": "bfe9c1e4-f7fe-418c-b3d3-f5c38cc9a205"
      },
      "execution_count": null,
      "outputs": [
        {
          "output_type": "stream",
          "name": "stdout",
          "text": [
            "h\n",
            "e\n",
            "l\n",
            "l\n",
            "o\n"
          ]
        }
      ]
    },
    {
      "cell_type": "code",
      "source": [
        "word = \"hello\"\n",
        "key = input(\"input key: \")"
      ],
      "metadata": {
        "colab": {
          "base_uri": "https://localhost:8080/"
        },
        "id": "uVQU01wJ0PcI",
        "outputId": "0b105d6a-3e60-49f4-b25f-ceea47d78f09"
      },
      "execution_count": null,
      "outputs": [
        {
          "name": "stdout",
          "output_type": "stream",
          "text": [
            "input key: 3\n"
          ]
        }
      ]
    },
    {
      "cell_type": "code",
      "source": [
        "# example - 3 : message encode\n",
        "plaintext =  input (\"put a message: \")\n",
        "key = int (input (\"put a key: \"))\n",
        "cipher = \"\"\n",
        "\n",
        "for char in plaintext:\n",
        "    cipher += chr(ord(char) + key)\n",
        "\n",
        "print (\"ciphertext: \", cipher)\n",
        "\n",
        "message = \"\"\n",
        "for char in cipher:\n",
        "    message += chr(ord(char) - key)\n",
        "\n",
        "print (message)\n"
      ],
      "metadata": {
        "colab": {
          "base_uri": "https://localhost:8080/"
        },
        "id": "spGDFCxE1gXU",
        "outputId": "500493eb-f36f-49c0-f75f-c387fd84f413"
      },
      "execution_count": null,
      "outputs": [
        {
          "output_type": "stream",
          "name": "stdout",
          "text": [
            "put a message: ashfak\n",
            "put a key: 3\n",
            "ciphertext:  dvkidn\n",
            "ashfak\n"
          ]
        }
      ]
    },
    {
      "cell_type": "code",
      "source": [
        "# example 4:\n",
        "\n",
        "student_age = {\"Alice\": 28, \"Bob\": 30, \"Charlie\": 25}\n",
        "print (student_age)\n",
        "\n",
        "for student in  student_age:\n",
        "  print (student)\n",
        "\n",
        "for age in student_age.values():\n",
        "  print(age)\n",
        "\n",
        "for student, age in student_age.items():\n",
        "  print (student, age)"
      ],
      "metadata": {
        "colab": {
          "base_uri": "https://localhost:8080/"
        },
        "id": "nv_P45qm3IZv",
        "outputId": "59ce3c8d-97f7-48d3-e535-b5bc2e79a5be"
      },
      "execution_count": null,
      "outputs": [
        {
          "output_type": "stream",
          "name": "stdout",
          "text": [
            "{'Alice': 28, 'Bob': 30, 'Charlie': 25}\n",
            "Alice\n",
            "Bob\n",
            "Charlie\n",
            "28\n",
            "30\n",
            "25\n",
            "Alice 28\n",
            "Bob 30\n",
            "Charlie 25\n"
          ]
        }
      ]
    },
    {
      "cell_type": "code",
      "source": [
        "# example: 5\n",
        "\n",
        "names = ['Alice', 'Bob', 'Charlie']\n",
        "ages = ['28', '30', '25']\n",
        "\n",
        "for name, age in zip (names, ages):\n",
        "   print(name, age)"
      ],
      "metadata": {
        "colab": {
          "base_uri": "https://localhost:8080/"
        },
        "id": "t5X8uC8K6hZ-",
        "outputId": "1f3c50ab-be46-4229-da95-b42810271dd8"
      },
      "execution_count": null,
      "outputs": [
        {
          "output_type": "stream",
          "name": "stdout",
          "text": [
            "Alice 28\n",
            "Bob 30\n",
            "Charlie 25\n"
          ]
        }
      ]
    },
    {
      "cell_type": "code",
      "source": [
        "# example: 6\n",
        "\n",
        "fruits = ['apple', 'banana', 'cherry']\n",
        "\n",
        "for index, fruits in enumerate (fruits):\n",
        "  print (index, fruits)"
      ],
      "metadata": {
        "colab": {
          "base_uri": "https://localhost:8080/"
        },
        "id": "dvgiXTt_7NsA",
        "outputId": "9988d408-bcc9-404f-ea52-28c3d6ffc0b8"
      },
      "execution_count": null,
      "outputs": [
        {
          "output_type": "stream",
          "name": "stdout",
          "text": [
            "0 apple\n",
            "1 banana\n",
            "2 cherry\n"
          ]
        }
      ]
    },
    {
      "cell_type": "code",
      "source": [
        "# example: 7\n",
        "\n",
        "for i in range (4):\n",
        "  for j in range (4):\n",
        "    for k in range (4):\n",
        "      print (\"i: \", i, \"j: \", j, \"k: \", k)"
      ],
      "metadata": {
        "colab": {
          "base_uri": "https://localhost:8080/"
        },
        "id": "wKZbMi9K76Xy",
        "outputId": "2090211a-71b3-4c08-8752-70165c536cb3"
      },
      "execution_count": null,
      "outputs": [
        {
          "output_type": "stream",
          "name": "stdout",
          "text": [
            "i:  0 j:  0 k:  0\n",
            "i:  0 j:  0 k:  1\n",
            "i:  0 j:  0 k:  2\n",
            "i:  0 j:  0 k:  3\n",
            "i:  0 j:  1 k:  0\n",
            "i:  0 j:  1 k:  1\n",
            "i:  0 j:  1 k:  2\n",
            "i:  0 j:  1 k:  3\n",
            "i:  0 j:  2 k:  0\n",
            "i:  0 j:  2 k:  1\n",
            "i:  0 j:  2 k:  2\n",
            "i:  0 j:  2 k:  3\n",
            "i:  0 j:  3 k:  0\n",
            "i:  0 j:  3 k:  1\n",
            "i:  0 j:  3 k:  2\n",
            "i:  0 j:  3 k:  3\n",
            "i:  1 j:  0 k:  0\n",
            "i:  1 j:  0 k:  1\n",
            "i:  1 j:  0 k:  2\n",
            "i:  1 j:  0 k:  3\n",
            "i:  1 j:  1 k:  0\n",
            "i:  1 j:  1 k:  1\n",
            "i:  1 j:  1 k:  2\n",
            "i:  1 j:  1 k:  3\n",
            "i:  1 j:  2 k:  0\n",
            "i:  1 j:  2 k:  1\n",
            "i:  1 j:  2 k:  2\n",
            "i:  1 j:  2 k:  3\n",
            "i:  1 j:  3 k:  0\n",
            "i:  1 j:  3 k:  1\n",
            "i:  1 j:  3 k:  2\n",
            "i:  1 j:  3 k:  3\n",
            "i:  2 j:  0 k:  0\n",
            "i:  2 j:  0 k:  1\n",
            "i:  2 j:  0 k:  2\n",
            "i:  2 j:  0 k:  3\n",
            "i:  2 j:  1 k:  0\n",
            "i:  2 j:  1 k:  1\n",
            "i:  2 j:  1 k:  2\n",
            "i:  2 j:  1 k:  3\n",
            "i:  2 j:  2 k:  0\n",
            "i:  2 j:  2 k:  1\n",
            "i:  2 j:  2 k:  2\n",
            "i:  2 j:  2 k:  3\n",
            "i:  2 j:  3 k:  0\n",
            "i:  2 j:  3 k:  1\n",
            "i:  2 j:  3 k:  2\n",
            "i:  2 j:  3 k:  3\n",
            "i:  3 j:  0 k:  0\n",
            "i:  3 j:  0 k:  1\n",
            "i:  3 j:  0 k:  2\n",
            "i:  3 j:  0 k:  3\n",
            "i:  3 j:  1 k:  0\n",
            "i:  3 j:  1 k:  1\n",
            "i:  3 j:  1 k:  2\n",
            "i:  3 j:  1 k:  3\n",
            "i:  3 j:  2 k:  0\n",
            "i:  3 j:  2 k:  1\n",
            "i:  3 j:  2 k:  2\n",
            "i:  3 j:  2 k:  3\n",
            "i:  3 j:  3 k:  0\n",
            "i:  3 j:  3 k:  1\n",
            "i:  3 j:  3 k:  2\n",
            "i:  3 j:  3 k:  3\n"
          ]
        }
      ]
    },
    {
      "cell_type": "code",
      "source": [
        "#example: 9\n",
        "\n",
        "matrix = [[1, 2, 3], [4, 5, 6], [7, 8, 9]]\n",
        "for row in matrix:\n",
        "  for value in row:\n",
        "    print(value)"
      ],
      "metadata": {
        "colab": {
          "base_uri": "https://localhost:8080/"
        },
        "id": "FrBn_v7b-JN2",
        "outputId": "a9119ec3-6d9f-4d0b-c929-d36bcd2fab8b"
      },
      "execution_count": null,
      "outputs": [
        {
          "output_type": "stream",
          "name": "stdout",
          "text": [
            "1\n",
            "2\n",
            "3\n",
            "4\n",
            "5\n",
            "6\n",
            "7\n",
            "8\n",
            "9\n"
          ]
        }
      ]
    },
    {
      "cell_type": "code",
      "source": [
        "# examlple: 10\n",
        "A  = [3, 41, 12, 9, 74, 15]\n",
        "max = A[0]\n",
        "for i in A:\n",
        "  if i > max:\n",
        "    max = i\n",
        "print(max)\n",
        "\n",
        "min = A[0]\n",
        "for i in A:\n",
        "  if i < min:\n",
        "    min = i\n",
        "print(min)\n"
      ],
      "metadata": {
        "colab": {
          "base_uri": "https://localhost:8080/"
        },
        "id": "FlK_ZK8cGCSg",
        "outputId": "9124a967-9f5f-4277-ac6f-351094d11c07"
      },
      "execution_count": null,
      "outputs": [
        {
          "output_type": "stream",
          "name": "stdout",
          "text": [
            "74\n",
            "3\n"
          ]
        }
      ]
    },
    {
      "cell_type": "code",
      "source": [
        "# example: 11\n",
        "\n",
        "A = [3, 41, 12, 9, 74, 15]\n",
        "\n",
        "smallest = None\n",
        "for i in A:\n",
        "  if smallest is None:\n",
        "    smallest = i\n",
        "  elif smallest > i:\n",
        "    smallest = i\n",
        "\n",
        "print(smallest)\n",
        "\n",
        "match = True\n",
        "if match is True:\n",
        "      print(match)"
      ],
      "metadata": {
        "colab": {
          "base_uri": "https://localhost:8080/"
        },
        "id": "kI-Lr4ykInat",
        "outputId": "e85368fe-553c-4848-f436-54e37bae8bdc"
      },
      "execution_count": null,
      "outputs": [
        {
          "output_type": "stream",
          "name": "stdout",
          "text": [
            "3\n",
            "True\n"
          ]
        }
      ]
    },
    {
      "cell_type": "code",
      "source": [
        "# example: 12_ Print number from 1 to 10\n",
        "\n",
        "i = 1\n",
        "while i <= 10:\n",
        "    print(i)\n",
        "    i += 1\n"
      ],
      "metadata": {
        "colab": {
          "base_uri": "https://localhost:8080/"
        },
        "id": "Iz_NVOyCKf90",
        "outputId": "f524a222-5bff-45f5-80d0-3aef7194dcdf"
      },
      "execution_count": null,
      "outputs": [
        {
          "output_type": "stream",
          "name": "stdout",
          "text": [
            "1\n",
            "2\n",
            "3\n",
            "4\n",
            "5\n",
            "6\n",
            "7\n",
            "8\n",
            "9\n",
            "10\n"
          ]
        }
      ]
    },
    {
      "cell_type": "code",
      "source": [
        "# example 13: Sum of first N Natural Numbers\n",
        "\n",
        "N = int(input(\"Enter a number: \"))\n",
        "sum_of_numbers = 0\n",
        "\n",
        "for i in range (number + 1)\n",
        "\n"
      ],
      "metadata": {
        "colab": {
          "base_uri": "https://localhost:8080/"
        },
        "id": "ufhAihsVLmGr",
        "outputId": "b9358e26-f55c-434c-e666-724875fa00f1"
      },
      "execution_count": null,
      "outputs": [
        {
          "output_type": "stream",
          "name": "stdout",
          "text": [
            "Enter a number: 123\n",
            "The sum of the first 123 natural numbers is: 7626\n"
          ]
        }
      ]
    },
    {
      "cell_type": "code",
      "source": [
        "#example 14:\n",
        "String = input(\"enter string: \")\n",
        "\n",
        "for char in String:\n",
        "  print(char)"
      ],
      "metadata": {
        "colab": {
          "base_uri": "https://localhost:8080/"
        },
        "id": "zF7QoYqMNIXl",
        "outputId": "29476c4b-edf9-41c2-839a-ed63b5f886b4"
      },
      "execution_count": null,
      "outputs": [
        {
          "output_type": "stream",
          "name": "stdout",
          "text": [
            "enter string: asfak\n",
            "a\n",
            "s\n",
            "f\n",
            "a\n",
            "k\n"
          ]
        }
      ]
    },
    {
      "cell_type": "code",
      "source": [
        "# example 15:\n",
        "\n",
        "for even in range(2, 21, 2):\n",
        "  print(even)\n"
      ],
      "metadata": {
        "colab": {
          "base_uri": "https://localhost:8080/"
        },
        "id": "oxhxL6n4Ng7P",
        "outputId": "fb73fcf3-d268-4b7a-84a1-4b711767c6ed"
      },
      "execution_count": null,
      "outputs": [
        {
          "output_type": "stream",
          "name": "stdout",
          "text": [
            "2\n",
            "4\n",
            "6\n",
            "8\n",
            "10\n",
            "12\n",
            "14\n",
            "16\n",
            "18\n",
            "20\n"
          ]
        }
      ]
    },
    {
      "cell_type": "code",
      "source": [
        "# example 16:\n",
        "\n",
        "num = int(input(\"enter number: \"))\n",
        "fact = 1\n",
        "for i in range(1, num+1):\n",
        "  fact *=i\n",
        "print(fact)"
      ],
      "metadata": {
        "colab": {
          "base_uri": "https://localhost:8080/"
        },
        "id": "J8MkVtDVOZ5t",
        "outputId": "c9da7ad6-88f9-4ab2-ae25-deda8a679d80"
      },
      "execution_count": null,
      "outputs": [
        {
          "output_type": "stream",
          "name": "stdout",
          "text": [
            "enter number: 5\n",
            "120\n"
          ]
        }
      ]
    },
    {
      "cell_type": "code",
      "source": [
        "# example 17:\n",
        "import math\n",
        "n = int(input(\"put a number: \"))\n",
        "for i in range(2, int(math.sqrt(n)), 1):\n",
        "  if n % 1 == 0:\n",
        "    prime = False\n",
        "    break\n",
        "if prime is True:\n",
        "    print(n, \"is a prime number\")\n",
        "else:\n",
        "    print(n, \"is not prime number\")\n"
      ],
      "metadata": {
        "colab": {
          "base_uri": "https://localhost:8080/"
        },
        "id": "WpwB14auPJQc",
        "outputId": "3c53f714-987d-4cd2-932e-85a56c831076"
      },
      "execution_count": null,
      "outputs": [
        {
          "output_type": "stream",
          "name": "stdout",
          "text": [
            "put a number: 13\n",
            "13 is not prime number\n"
          ]
        }
      ]
    }
  ]
}