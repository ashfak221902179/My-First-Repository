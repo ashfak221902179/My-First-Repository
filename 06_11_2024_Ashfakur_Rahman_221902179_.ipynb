{
  "nbformat": 4,
  "nbformat_minor": 0,
  "metadata": {
    "colab": {
      "provenance": [],
      "toc_visible": true,
      "authorship_tag": "ABX9TyONB+MkyBBAOY8/o+q2R9sa",
      "include_colab_link": true
    },
    "kernelspec": {
      "name": "python3",
      "display_name": "Python 3"
    },
    "language_info": {
      "name": "python"
    }
  },
  "cells": [
    {
      "cell_type": "markdown",
      "metadata": {
        "id": "view-in-github",
        "colab_type": "text"
      },
      "source": [
        "<a href=\"https://colab.research.google.com/github/ashfak221902179/My-First-Repository/blob/main/06_11_2024_Ashfakur_Rahman_221902179_.ipynb\" target=\"_parent\"><img src=\"https://colab.research.google.com/assets/colab-badge.svg\" alt=\"Open In Colab\"/></a>"
      ]
    },
    {
      "cell_type": "code",
      "execution_count": null,
      "metadata": {
        "colab": {
          "base_uri": "https://localhost:8080/"
        },
        "id": "Qi9AhEXN_31W",
        "outputId": "94403118-dda8-4e4e-d3f2-0e881fb5d3d8"
      },
      "outputs": [
        {
          "output_type": "stream",
          "name": "stdout",
          "text": [
            "summation:  1275\n"
          ]
        }
      ],
      "source": [
        "# problem 3:\n",
        "sum_ = 0\n",
        "i = 1 #initialize\n",
        "while i<=50: #test condition\n",
        "  sum_ += i\n",
        "  i += 1 #update\n",
        "print(\"summation: \", sum_)\n",
        "\n"
      ]
    },
    {
      "cell_type": "code",
      "source": [
        "#problem 1: print 15 to 30\n",
        "\n",
        "i = 15 #initialize\n",
        "while i <= 30: #test condition\n",
        "    print(i)\n",
        "    i += 1 #update\n"
      ],
      "metadata": {
        "colab": {
          "base_uri": "https://localhost:8080/"
        },
        "id": "fdG2Tdy5KpcI",
        "outputId": "45acb025-d434-4dc4-8822-9aa883059658"
      },
      "execution_count": null,
      "outputs": [
        {
          "output_type": "stream",
          "name": "stdout",
          "text": [
            "15\n",
            "16\n",
            "17\n",
            "18\n",
            "19\n",
            "20\n",
            "21\n",
            "22\n",
            "23\n",
            "24\n",
            "25\n",
            "26\n",
            "27\n",
            "28\n",
            "29\n",
            "30\n"
          ]
        }
      ]
    },
    {
      "cell_type": "code",
      "source": [
        "#problem 4: factorial number\n",
        "\n",
        "i = 0  # Initialize\n",
        "while i <= 20:  # Test condition\n",
        "    if i % 2 == 0:  # Check if the number is even\n",
        "        print(i)\n",
        "    i += 1"
      ],
      "metadata": {
        "colab": {
          "base_uri": "https://localhost:8080/"
        },
        "id": "IhVdAC3zLKOq",
        "outputId": "446c56e6-6a79-4815-d7af-b103461adccb"
      },
      "execution_count": null,
      "outputs": [
        {
          "output_type": "stream",
          "name": "stdout",
          "text": [
            "0\n",
            "2\n",
            "4\n",
            "6\n",
            "8\n",
            "10\n",
            "12\n",
            "14\n",
            "16\n",
            "18\n",
            "20\n"
          ]
        }
      ]
    },
    {
      "cell_type": "code",
      "source": [
        "# problem 2: sum first n natural numbers\n",
        "\n",
        "num = 1\n",
        "while (num<10):\n",
        "  sum = num + 1# problem 3 factorial number\n",
        "\n",
        "sum = 0\n",
        "i = 1\n",
        "while i <= 5:\n",
        "  sum += i\n",
        "  num += 1\n",
        "  print(\"sum: \", sum)"
      ],
      "metadata": {
        "colab": {
          "base_uri": "https://localhost:8080/"
        },
        "id": "Oioz-LfwNIht",
        "outputId": "1108c591-6112-497c-8bf7-087e97b2d86b"
      },
      "execution_count": null,
      "outputs": [
        {
          "output_type": "stream",
          "name": "stdout",
          "text": [
            "sum:  2\n",
            "sum:  3\n",
            "sum:  4\n",
            "sum:  5\n",
            "sum:  6\n",
            "sum:  7\n",
            "sum:  8\n",
            "sum:  9\n",
            "sum:  10\n"
          ]
        }
      ]
    },
    {
      "cell_type": "code",
      "source": [
        "# problem 5: multiplication table\n",
        "\n",
        "num = int(input(\"Enter a number : \"))\n",
        "\n",
        "i = 1 # Initialize\n",
        "\n",
        "while i <= 10:\n",
        "    print( num, \"x\" , i, \"=\" , num*i)\n",
        "    i += 1\n",
        "\n"
      ],
      "metadata": {
        "id": "xG03FwKWSUZi",
        "colab": {
          "base_uri": "https://localhost:8080/"
        },
        "outputId": "e5a669d1-b819-4aeb-a39c-f4ef0b738530"
      },
      "execution_count": null,
      "outputs": [
        {
          "output_type": "stream",
          "name": "stdout",
          "text": [
            "Enter a number : 5\n",
            "5 x 1 = 5\n",
            "5 x 2 = 5\n",
            "5 x 3 = 5\n",
            "5 x 4 = 5\n",
            "5 x 5 = 5\n",
            "5 x 6 = 5\n",
            "5 x 7 = 5\n",
            "5 x 8 = 5\n",
            "5 x 9 = 5\n",
            "5 x 10 = 5\n"
          ]
        }
      ]
    },
    {
      "cell_type": "code",
      "source": [
        "# problem 7: sum of digit\n",
        "\n",
        "n = int (input(\"put a number: \"))\n",
        "sum = 0\n",
        "while n > 0:\n",
        "  d = n % 10\n",
        "  n //= 10\n",
        "  sum += d\n",
        "print (sum)\n"
      ],
      "metadata": {
        "colab": {
          "base_uri": "https://localhost:8080/"
        },
        "id": "L5rMBnFMXyno",
        "outputId": "7fa9e3f6-1bca-40a6-b51d-cc858453e96f"
      },
      "execution_count": null,
      "outputs": [
        {
          "output_type": "stream",
          "name": "stdout",
          "text": [
            "put a number: 3456\n",
            "18\n"
          ]
        }
      ]
    },
    {
      "cell_type": "code",
      "source": [
        "from ast import Add\n",
        "A = [36, 69, 24, 32, 45]\n",
        "print (A)\n",
        "print(A[2])\n",
        "A[3] = A[2]\n",
        "print (A)\n",
        "A[1] += 10\n",
        "print (A)\n"
      ],
      "metadata": {
        "colab": {
          "base_uri": "https://localhost:8080/"
        },
        "id": "KAQBENk5ak4-",
        "outputId": "b442ec8a-3a10-4bfb-adf2-e3f8bc388ecc"
      },
      "execution_count": null,
      "outputs": [
        {
          "output_type": "stream",
          "name": "stdout",
          "text": [
            "[36, 69, 24, 32, 45]\n",
            "24\n",
            "[36, 69, 24, 24, 45]\n",
            "[36, 79, 24, 24, 45]\n"
          ]
        }
      ]
    },
    {
      "cell_type": "code",
      "source": [
        "# problem 6: reverse a list\n",
        "\n",
        "A = [36, 69, 24, 32, 45, 62, 45, 93]\n",
        "print (A)\n",
        "i = 0\n",
        "while i < len (A)/2:\n",
        "  A[i], A[len(A)-i-1] = A[len(A)-i-1], A[i]\n",
        "  i += 1\n",
        "print (A)"
      ],
      "metadata": {
        "colab": {
          "base_uri": "https://localhost:8080/"
        },
        "id": "6kwjYiURbWmX",
        "outputId": "96b22326-017e-43a3-bad0-a074c1f774a4"
      },
      "execution_count": null,
      "outputs": [
        {
          "output_type": "stream",
          "name": "stdout",
          "text": [
            "[36, 69, 24, 32, 45, 62, 45, 93]\n",
            "[93, 45, 62, 45, 32, 24, 69, 36]\n"
          ]
        }
      ]
    },
    {
      "cell_type": "code",
      "source": [
        "#Find the maximum in the list\n",
        "A = [36, 69, 24, 32, 45, 62, 45, 93]\n",
        "i = 0\n",
        "max_ = A[0]\n",
        "while i < len(A):\n",
        "  if max_ < A[i]:\n",
        "     max_ = A[i]\n",
        "  i += 1\n",
        "print (max_)"
      ],
      "metadata": {
        "colab": {
          "base_uri": "https://localhost:8080/"
        },
        "id": "fWpoxiiFelq_",
        "outputId": "6fe8ed69-fd78-4867-b177-473becd479ba"
      },
      "execution_count": null,
      "outputs": [
        {
          "output_type": "stream",
          "name": "stdout",
          "text": [
            "93\n"
          ]
        }
      ]
    },
    {
      "cell_type": "code",
      "source": [
        "A = [36, 69, 24, 32, -45, 62, 45, 93]\n",
        "i = 0\n",
        "while i < len(A):\n",
        "  if A[i] < 0:\n",
        "       break\n",
        "  else:\n",
        "    print (A[i])\n",
        "  i += 1"
      ],
      "metadata": {
        "colab": {
          "base_uri": "https://localhost:8080/"
        },
        "id": "llJdf-ZniWVQ",
        "outputId": "8f3bade3-5e4e-42d9-efed-2ace1a66ce83"
      },
      "execution_count": null,
      "outputs": [
        {
          "output_type": "stream",
          "name": "stdout",
          "text": [
            "36\n",
            "69\n",
            "24\n",
            "32\n"
          ]
        }
      ]
    },
    {
      "cell_type": "code",
      "source": [
        "attemp = 3\n",
        "pass_ = \"abc123\"\n",
        "\n",
        "i = 0\n",
        "while i < attemp:\n",
        "  password = input (\"put your password: \")\n",
        "  if password == pass_:\n",
        "    match = True\n",
        "    break\n",
        "  i += 1\n",
        "\n",
        "if match:\n",
        "  print (\"Access Granted\")\n",
        "else:\n",
        "  print (\"Access Denied\")"
      ],
      "metadata": {
        "colab": {
          "base_uri": "https://localhost:8080/"
        },
        "id": "dByCMh_njTcH",
        "outputId": "8f2e34f5-db62-475c-f3fa-6d846cf86a26"
      },
      "execution_count": null,
      "outputs": [
        {
          "name": "stdout",
          "output_type": "stream",
          "text": [
            "put your password: 1234\n",
            "put your password: asbs2\n"
          ]
        }
      ]
    }
  ]
}