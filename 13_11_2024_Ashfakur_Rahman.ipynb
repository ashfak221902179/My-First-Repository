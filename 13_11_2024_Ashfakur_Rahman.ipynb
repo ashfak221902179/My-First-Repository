{
  "nbformat": 4,
  "nbformat_minor": 0,
  "metadata": {
    "colab": {
      "provenance": [],
      "authorship_tag": "ABX9TyNRVpbK5ulujZ+Hg5f5QN84",
      "include_colab_link": true
    },
    "kernelspec": {
      "name": "python3",
      "display_name": "Python 3"
    },
    "language_info": {
      "name": "python"
    }
  },
  "cells": [
    {
      "cell_type": "markdown",
      "metadata": {
        "id": "view-in-github",
        "colab_type": "text"
      },
      "source": [
        "<a href=\"https://colab.research.google.com/github/ashfak221902179/My-First-Repository/blob/main/13_11_2024_Ashfakur_Rahman.ipynb\" target=\"_parent\"><img src=\"https://colab.research.google.com/assets/colab-badge.svg\" alt=\"Open In Colab\"/></a>"
      ]
    },
    {
      "cell_type": "code",
      "source": [
        "def Factorial():\n",
        "    n = int(input('Put a number: '))\n",
        "    fact = 1\n",
        "    for i in range(1, n + 1):\n",
        "        fact *= i\n",
        "    print(fact)\n",
        "\n",
        "\n",
        "Factorial()\n",
        "Factorial()\n",
        "Factorial()"
      ],
      "metadata": {
        "colab": {
          "base_uri": "https://localhost:8080/"
        },
        "id": "DYMOUwAlFXs5",
        "outputId": "d0770522-caa4-4ada-91e5-c2edb19be793"
      },
      "execution_count": null,
      "outputs": [
        {
          "output_type": "stream",
          "name": "stdout",
          "text": [
            "Put a number: 3\n",
            "6\n",
            "Put a number: 5\n",
            "120\n",
            "Put a number: 2\n",
            "2\n"
          ]
        }
      ]
    },
    {
      "cell_type": "code",
      "source": [
        "a = int(input(\"Enter first number: \"))\n",
        "b = int(input(\"Enter second number: \"))\n",
        "c = int(input(\"Enter third number: \"))\n",
        "\n",
        "if(a > b and a >c):\n",
        "  print(\"The greatest number is: \", a)\n",
        "elif(b > c):\n",
        "  print(\"The greatest number is: \", b)\n",
        "else:\n",
        "  print(\"The greatest number is: \", c)"
      ],
      "metadata": {
        "colab": {
          "base_uri": "https://localhost:8080/"
        },
        "id": "djiiLMsvHHfh",
        "outputId": "548b1085-9c01-4019-ab67-202e728a04d2"
      },
      "execution_count": null,
      "outputs": [
        {
          "output_type": "stream",
          "name": "stdout",
          "text": [
            "Enter first number: 10\n",
            "Enter second number: 15\n",
            "Enter third number: 20\n",
            "The greatest number is:  20\n"
          ]
        }
      ]
    },
    {
      "cell_type": "code",
      "source": [
        "def Example (num, num2):\n",
        "  print (num, num2)\n",
        "Example (43, 56)\n"
      ],
      "metadata": {
        "colab": {
          "base_uri": "https://localhost:8080/"
        },
        "id": "H0MluiYDJNM8",
        "outputId": "ecba15b1-ecee-49bb-b729-f4367bc8b8a1"
      },
      "execution_count": null,
      "outputs": [
        {
          "output_type": "stream",
          "name": "stdout",
          "text": [
            "43 56\n"
          ]
        }
      ]
    },
    {
      "cell_type": "code",
      "source": [
        "# Area\n",
        "side = int(input(\"Enter the value of side: \"))\n",
        "\n",
        "area_side = side * side\n",
        "print(area_side)\n",
        "\n",
        "#Circle\n",
        "radius = int(input(\"Enter the value of radius: \"))\n",
        "\n",
        "circle_area = 3.1416 * radius *radius\n",
        "\n",
        "print(circle_area)\n",
        "\n"
      ],
      "metadata": {
        "colab": {
          "base_uri": "https://localhost:8080/"
        },
        "id": "ACHh0yzQNTqS",
        "outputId": "7d3199fa-b6ef-410e-c1b8-7082459485a3"
      },
      "execution_count": null,
      "outputs": [
        {
          "output_type": "stream",
          "name": "stdout",
          "text": [
            "Enter the value of side: 5\n",
            "25\n",
            "Enter the value of radius: 4\n",
            "50.2656\n"
          ]
        }
      ]
    },
    {
      "cell_type": "code",
      "source": [
        "from ast import Str\n",
        "list = ['A', 'B', 'C', 'D', 'E']\n",
        "x = list.count('C')\n",
        "print(x)"
      ],
      "metadata": {
        "colab": {
          "base_uri": "https://localhost:8080/"
        },
        "id": "-K2CMfoDO4YR",
        "outputId": "d5dc7291-adfc-4ee3-a896-369753f01c14"
      },
      "execution_count": null,
      "outputs": [
        {
          "output_type": "stream",
          "name": "stdout",
          "text": [
            "1\n"
          ]
        }
      ]
    },
    {
      "cell_type": "code",
      "source": [
        "addition = lambda a, b: a + b\n",
        "print (addition (5, 6))"
      ],
      "metadata": {
        "colab": {
          "base_uri": "https://localhost:8080/"
        },
        "id": "P_YwHYAhdVOc",
        "outputId": "ec24d96c-dcd2-4093-d178-213c07d0bad7"
      },
      "execution_count": null,
      "outputs": [
        {
          "output_type": "stream",
          "name": "stdout",
          "text": [
            "11\n"
          ]
        }
      ]
    },
    {
      "cell_type": "code",
      "source": [
        "\n",
        "a = int(input(\"Enter first number: \"))\n",
        "b = int(input(\"Enter second number: \"))\n",
        "c = int(input(\"Enter third number: \"))\n",
        "addition = lambda a, b, c: a + b + c\n",
        "print (addition(a, b, c))"
      ],
      "metadata": {
        "colab": {
          "base_uri": "https://localhost:8080/"
        },
        "id": "sV1RwxRGebor",
        "outputId": "57c8ff8b-c150-4cb3-b43c-a8e9d50a0903"
      },
      "execution_count": null,
      "outputs": [
        {
          "output_type": "stream",
          "name": "stdout",
          "text": [
            "Enter first number: 5\n",
            "Enter second number: 7\n",
            "Enter third number: 9\n",
            "21\n"
          ]
        }
      ]
    },
    {
      "cell_type": "code",
      "source": [
        "x = input(\"Enter your first name: \")\n",
        "y = input(\"Enter your last name: \")\n",
        "\n",
        "full_name = lambda x, y: x + \" \" + y\n",
        "\n",
        "print(\"Full Name:\", full_name(x, y))"
      ],
      "metadata": {
        "colab": {
          "base_uri": "https://localhost:8080/"
        },
        "id": "JLIlxtezemSk",
        "outputId": "2a88386a-412f-480f-d46c-535534c8db44"
      },
      "execution_count": null,
      "outputs": [
        {
          "output_type": "stream",
          "name": "stdout",
          "text": [
            "Enter your first name: Ashfak\n",
            "Enter your last name: Rahman\n",
            "Full Name: Ashfak Rahman\n"
          ]
        }
      ]
    }
  ]
}