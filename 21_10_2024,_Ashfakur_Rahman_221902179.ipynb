{
  "nbformat": 4,
  "nbformat_minor": 0,
  "metadata": {
    "colab": {
      "provenance": [],
      "authorship_tag": "ABX9TyMWRX49PCl7qiQ/7HLuTDG8",
      "include_colab_link": true
    },
    "kernelspec": {
      "name": "python3",
      "display_name": "Python 3"
    },
    "language_info": {
      "name": "python"
    }
  },
  "cells": [
    {
      "cell_type": "markdown",
      "metadata": {
        "id": "view-in-github",
        "colab_type": "text"
      },
      "source": [
        "<a href=\"https://colab.research.google.com/github/ashfak221902179/My-First-Repository/blob/main/21_10_2024%2C_Ashfakur_Rahman_221902179.ipynb\" target=\"_parent\"><img src=\"https://colab.research.google.com/assets/colab-badge.svg\" alt=\"Open In Colab\"/></a>"
      ]
    },
    {
      "cell_type": "code",
      "execution_count": null,
      "metadata": {
        "colab": {
          "base_uri": "https://localhost:8080/"
        },
        "id": "6hO_n_NVoujD",
        "outputId": "eed26eb6-3468-4a90-a660-c57b1c03207c"
      },
      "outputs": [
        {
          "output_type": "stream",
          "name": "stdout",
          "text": [
            "123\n",
            "Hel world!\n"
          ]
        }
      ],
      "source": [
        "print (123)\n",
        "print(\"Hello world!\")"
      ]
    },
    {
      "cell_type": "code",
      "source": [
        "x = 12.2\n",
        "y = 14\n",
        "print (x)\n",
        "print(y)\n",
        "print (x,y)\n",
        "print ('x: ', x, 'y:', y)\n",
        "print('x: ' + str(x) + 'y: ' + str(y))\n",
        "x = x + 10\n",
        "print (x)"
      ],
      "metadata": {
        "colab": {
          "base_uri": "https://localhost:8080/"
        },
        "id": "vFKQRayxpf1e",
        "outputId": "00ab8f3f-6779-4b92-9039-66adc750e8f8"
      },
      "execution_count": null,
      "outputs": [
        {
          "output_type": "stream",
          "name": "stdout",
          "text": [
            "12.2\n",
            "14\n",
            "12.2 14\n",
            "x:  12.2 y: 14\n",
            "x: 12.2y: 14\n",
            "22.2\n"
          ]
        }
      ]
    },
    {
      "cell_type": "code",
      "source": [],
      "metadata": {
        "id": "lnuoPM0Hz70C"
      },
      "execution_count": null,
      "outputs": []
    },
    {
      "cell_type": "code",
      "source": [
        "PI = 3.1416\n",
        "r = 2\n",
        "print (PI)\n",
        "print (r)\n",
        "area = PI * r * r\n",
        "print('Area of Circle: ', area)"
      ],
      "metadata": {
        "colab": {
          "base_uri": "https://localhost:8080/"
        },
        "id": "FQVLS-8LuR3W",
        "outputId": "ef15b5d8-3ca3-451d-879a-6862ee36c4f1"
      },
      "execution_count": null,
      "outputs": [
        {
          "output_type": "stream",
          "name": "stdout",
          "text": [
            "3.1416\n",
            "2\n",
            "Area of cCircle:  12.5664\n"
          ]
        }
      ]
    },
    {
      "cell_type": "code",
      "source": [
        "a = 10\n",
        "b = 20\n",
        "print (a)\n",
        "print(b)\n",
        "print (a,b)\n",
        "a, b=b, a\n",
        "print ( a, b)"
      ],
      "metadata": {
        "colab": {
          "base_uri": "https://localhost:8080/"
        },
        "id": "7QvOlilNwWaX",
        "outputId": "5facdd1e-dbea-44b9-92fd-92170a3f461d"
      },
      "execution_count": null,
      "outputs": [
        {
          "output_type": "stream",
          "name": "stdout",
          "text": [
            "10\n",
            "20\n",
            "10 20\n",
            "20 10\n"
          ]
        }
      ]
    },
    {
      "cell_type": "code",
      "source": [
        "p = 100\n",
        "r = 50\n",
        "t = 20\n",
        "\n",
        "i = (p*r*t)/100\n",
        "print (i)\n"
      ],
      "metadata": {
        "colab": {
          "base_uri": "https://localhost:8080/"
        },
        "id": "Oy4mKhOSxw8W",
        "outputId": "5baedf19-d840-4f3e-be99-243836207b2c"
      },
      "execution_count": null,
      "outputs": [
        {
          "output_type": "stream",
          "name": "stdout",
          "text": [
            "1000.0\n"
          ]
        }
      ]
    },
    {
      "cell_type": "code",
      "source": [
        "celcius = 37\n",
        "print (celcius)\n",
        "farhenheit = ((celcius/5)*9+32)\n",
        "print('Farhenheit: ', farhenheit)"
      ],
      "metadata": {
        "colab": {
          "base_uri": "https://localhost:8080/"
        },
        "id": "IB1Hg5I5yZMJ",
        "outputId": "625ce7b2-6773-46f2-e853-17291eb73ed9"
      },
      "execution_count": null,
      "outputs": [
        {
          "output_type": "stream",
          "name": "stdout",
          "text": [
            "37\n",
            "Farhenheit:  98.60000000000001\n"
          ]
        }
      ]
    },
    {
      "cell_type": "code",
      "source": [
        "length = 5\n",
        "width= 4\n",
        "print(length)\n",
        "print(width)\n",
        "area = length*width\n",
        "print(area)\n",
        "perimeter = 2*(length+width)\n",
        "print(perimeter)"
      ],
      "metadata": {
        "colab": {
          "base_uri": "https://localhost:8080/"
        },
        "id": "_y5rhZpHz-wu",
        "outputId": "b5cbf5b3-92e1-460a-810e-69f08d681488"
      },
      "execution_count": null,
      "outputs": [
        {
          "output_type": "stream",
          "name": "stdout",
          "text": [
            "5\n",
            "4\n",
            "20\n",
            "18\n"
          ]
        }
      ]
    },
    {
      "cell_type": "code",
      "source": [
        "print(type(25.2))\n",
        "print(type(\"Ashfak\"))\n",
        "print(type(x))"
      ],
      "metadata": {
        "colab": {
          "base_uri": "https://localhost:8080/"
        },
        "id": "bsBXiUb1256h",
        "outputId": "c271601a-d184-4685-c168-abc2a3ac22a9"
      },
      "execution_count": null,
      "outputs": [
        {
          "output_type": "stream",
          "name": "stdout",
          "text": [
            "<class 'float'>\n",
            "<class 'str'>\n",
            "<class 'int'>\n"
          ]
        }
      ]
    },
    {
      "cell_type": "code",
      "source": [
        "noun = 'Ashfak'\n",
        "day = 'Monday'\n",
        "\n",
        "str = f'''How are you Mr. {noun}? You are invited to come at my home {day}.'''"
      ],
      "metadata": {
        "id": "ltSOnZNL_D5u"
      },
      "execution_count": null,
      "outputs": []
    },
    {
      "cell_type": "code",
      "source": [],
      "metadata": {
        "id": "Nm8tYcevD25N"
      },
      "execution_count": null,
      "outputs": []
    },
    {
      "cell_type": "code",
      "source": [
        "hours = float (input (\"Enter hours: \"))\n",
        "rate = float (input (\"Enter rates per hour: \"))\n",
        "pay = hours*rate\n",
        "print (f\"Pay: {pay: .2f}\")"
      ],
      "metadata": {
        "colab": {
          "base_uri": "https://localhost:8080/"
        },
        "id": "-PkNksntBxVv",
        "outputId": "9e1a63cd-52ef-49ba-a684-b911f437ebbc"
      },
      "execution_count": null,
      "outputs": [
        {
          "output_type": "stream",
          "name": "stdout",
          "text": [
            "Enter hours: 35\n",
            "Enter rates per hour: 2.75\n",
            "Pay:  96.25\n"
          ]
        }
      ]
    },
    {
      "cell_type": "code",
      "source": [
        "\n",
        "print(7+5)"
      ],
      "metadata": {
        "colab": {
          "base_uri": "https://localhost:8080/"
        },
        "id": "UaE_Gnl3D5tV",
        "outputId": "40b0aa59-db43-4239-970f-1e53f2f9d781"
      },
      "execution_count": null,
      "outputs": [
        {
          "output_type": "stream",
          "name": "stdout",
          "text": [
            "12\n"
          ]
        }
      ]
    },
    {
      "cell_type": "code",
      "source": [
        "words = \"All\", \"work\", \"and\", \"no\", \"play\", \"makes\", \"jack\", \"a\", \"dull\", \"boy\"\n",
        "print (\" \".join(words))"
      ],
      "metadata": {
        "colab": {
          "base_uri": "https://localhost:8080/"
        },
        "id": "aGbceb16FVs3",
        "outputId": "2c9ee012-031d-48da-8f0a-91f39d99c2fc"
      },
      "execution_count": null,
      "outputs": [
        {
          "output_type": "stream",
          "name": "stdout",
          "text": [
            "All work and no play makes jack a dull boy\n"
          ]
        }
      ]
    },
    {
      "cell_type": "code",
      "source": [
        "original_value: 6*1-2\n",
        "change_value: 6*(1-2)\n",
        "\n",
        "print('Original Value: ', original_value)\n",
        "print('Changed Value: ', change_value)"
      ],
      "metadata": {
        "colab": {
          "base_uri": "https://localhost:8080/",
          "height": 193
        },
        "id": "5C5HPUUDGwzT",
        "outputId": "a810090d-4eef-408f-a1e0-38fd7d72b48c"
      },
      "execution_count": null,
      "outputs": [
        {
          "output_type": "error",
          "ename": "NameError",
          "evalue": "name 'original_value' is not defined",
          "traceback": [
            "\u001b[0;31m---------------------------------------------------------------------------\u001b[0m",
            "\u001b[0;31mNameError\u001b[0m                                 Traceback (most recent call last)",
            "\u001b[0;32m<ipython-input-44-f68c8b764bde>\u001b[0m in \u001b[0;36m<cell line: 4>\u001b[0;34m()\u001b[0m\n\u001b[1;32m      2\u001b[0m \u001b[0mchange_value\u001b[0m\u001b[0;34m:\u001b[0m \u001b[0;36m6\u001b[0m\u001b[0;34m*\u001b[0m\u001b[0;34m(\u001b[0m\u001b[0;36m1\u001b[0m\u001b[0;34m-\u001b[0m\u001b[0;36m2\u001b[0m\u001b[0;34m)\u001b[0m\u001b[0;34m\u001b[0m\u001b[0;34m\u001b[0m\u001b[0m\n\u001b[1;32m      3\u001b[0m \u001b[0;34m\u001b[0m\u001b[0m\n\u001b[0;32m----> 4\u001b[0;31m \u001b[0mprint\u001b[0m\u001b[0;34m(\u001b[0m\u001b[0;34m'Original Value: '\u001b[0m\u001b[0;34m,\u001b[0m \u001b[0moriginal_value\u001b[0m\u001b[0;34m)\u001b[0m\u001b[0;34m\u001b[0m\u001b[0;34m\u001b[0m\u001b[0m\n\u001b[0m\u001b[1;32m      5\u001b[0m \u001b[0mprint\u001b[0m\u001b[0;34m(\u001b[0m\u001b[0;34m'Changed Value: '\u001b[0m\u001b[0;34m,\u001b[0m \u001b[0mchange_value\u001b[0m\u001b[0;34m)\u001b[0m\u001b[0;34m\u001b[0m\u001b[0;34m\u001b[0m\u001b[0m\n",
            "\u001b[0;31mNameError\u001b[0m: name 'original_value' is not defined"
          ]
        }
      ]
    }
  ]
}