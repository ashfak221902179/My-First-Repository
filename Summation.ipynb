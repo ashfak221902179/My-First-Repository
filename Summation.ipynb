{
  "nbformat": 4,
  "nbformat_minor": 0,
  "metadata": {
    "colab": {
      "provenance": [],
      "authorship_tag": "ABX9TyMz0ha46y+jp14JSNArh/MG",
      "include_colab_link": true
    },
    "kernelspec": {
      "name": "python3",
      "display_name": "Python 3"
    },
    "language_info": {
      "name": "python"
    }
  },
  "cells": [
    {
      "cell_type": "markdown",
      "metadata": {
        "id": "view-in-github",
        "colab_type": "text"
      },
      "source": [
        "<a href=\"https://colab.research.google.com/github/ashfak221902179/My-First-Repository/blob/main/Summation.ipynb\" target=\"_parent\"><img src=\"https://colab.research.google.com/assets/colab-badge.svg\" alt=\"Open In Colab\"/></a>"
      ]
    },
    {
      "cell_type": "code",
      "execution_count": null,
      "metadata": {
        "colab": {
          "base_uri": "https://localhost:8080/"
        },
        "id": "aLvgaMzE4THl",
        "outputId": "b47020af-861e-4339-ea1a-9814bd47bd67"
      },
      "outputs": [
        {
          "output_type": "stream",
          "name": "stdout",
          "text": [
            "Please enter your name: Ashfak\n",
            "Please enter your age: 23\n",
            "Hello I am Ashfak\n",
            "I am, 23\n",
            "put a number: 12\n",
            "put a number: 15\n",
            "Summation is: 27\n",
            "Summation is:  27\n",
            "27\n"
          ]
        }
      ],
      "source": [
        "name = input(\"Please enter your name: \")\n",
        "age = input(\"Please enter your age: \")\n",
        "\n",
        "\n",
        "print(\"Hello I am \" + name )\n",
        "print(\"I am, \" + age )\n",
        "\n",
        "\n",
        "a = int (input (\"put a number: \"))\n",
        "b = int (input (\"put a number: \"))\n",
        "s = a+b\n",
        "print (\"Summation is: \" + str(s))\n",
        "print (\"Summation is: \", s)\n",
        "print (s)"
      ]
    }
  ]
}